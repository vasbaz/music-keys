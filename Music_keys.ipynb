{
  "nbformat": 4,
  "nbformat_minor": 0,
  "metadata": {
    "colab": {
      "name": "Music keys.ipynb",
      "provenance": [],
      "authorship_tag": "ABX9TyN0KpIcx9Gc0JquLtFOrNFz"
    },
    "kernelspec": {
      "name": "python3",
      "display_name": "Python 3"
    },
    "language_info": {
      "name": "python"
    }
  },
  "cells": [
    {
      "cell_type": "markdown",
      "source": [
        "# Favorite music keys"
      ],
      "metadata": {
        "id": "IcdUvTXM0v2H"
      }
    },
    {
      "cell_type": "code",
      "source": [
        "raw_music_string = \"\"\"\n",
        "* Liam Thomas - Arcturus [C Maj | a min | A min | 130] (1)\n",
        "* Liam Thomas - Tonight We Fly [g min | F Maj | D min | 120] (2)\n",
        "* Artificial Endorphins - Warm Embrace [d# min | d# min | Eb min | 70] (3)\n",
        "* Artificial Endorphins - Melting Ice [E Maj | E Maj | E min | 139] (4)\n",
        "* Blackmill Feat Cat Martin - Don’t Let Me Down [g# min | g# min | Ab min | 82? ] (5)\n",
        "* Technimatic - Holding On ft Matt Wilson [f min | f min | F min | 87? ] (6)\n",
        "* Jeremy Soule - Secunda [g min | g min | G min | 91] (7)\n",
        "* Jeremy Soule - Jata [g min | g min | G min | 60] (8)\n",
        "* Alexandre Desplat - Lily’s theme (YouTube piano) [c# min | c# min | c# min | 82] (9)\n",
        "* Andy Leech - René [d# min | d# min | Eb min | 135] (10)\n",
        "* Andy Leech - Solar Fields [C maj | c min | C min | 139] (11)\n",
        "* Alex Lustig - Free Form [B maj | B maj | E maj | 103] (12)\n",
        "* Alex Lustig - Eclipse [F maj | F Maj | F maj | 101] (13)\n",
        "* Technimatic -  Foreshadow Interlude [b min | b min | B min | 85] (14)\n",
        "* Enigma - Sadeness Part I [a min | a min | A min | 96] (15)\n",
        "* Aquilo - It All Comes Down to This [d min | d min | D min | 115] (16)\n",
        "* AK - Discovery [c# min | g# min | C# min | 77] (17)\n",
        "* AK - Wanderlust [A# Maj | A# Maj | Bb Maj | 87] (18)\n",
        "* AK - It Takes Time [g min | g min | G min | 121] (19)\n",
        "* AK - Blossom [g min | g min | G min | 87] (20)\n",
        "* AK - Gone [f min | f min | F min | 144] (21)\n",
        "* AK - Icicle [e min | e min | E min | 87] (22)\n",
        "* 36 - Room 2 [a min | f min | F min | 111] (23)\n",
        "* Sebastian Davidson - River Battles [f min | A# Maj | C min | 110] (24)\n",
        "* Technimatic - Music Is Music [C Maj | C Maj | C min | 86? ] (25)\n",
        "* Future - Mask Off [d min | d min | D maj | 75] (26)\n",
        "* Three Drives on a Vinyl - Greece 2000 (Sebastian Davidson) [g# min | g# min | Ab min | 105] (27)\n",
        "* The Witcher 3: Wild Hunt - Kaer Morhen (Piano Cover) [d min | d min | D min | 139?] (28)\n",
        "* Blessed mane - Youth [f# min | A maj | A min | 140] phonk (29)\n",
        "* Sakureye - Lullaby [C# Maj | f min | Bb min |  51?] phonk (30)\n",
        "* Luciano (DnB) - Threads [a# min | a# min | Bb min | 87? ] (31)\n",
        "* Matrix Futurebound - Believe [f min | f min | F Maj | 87? ] (32)\n",
        "* Polaris - Obsidian (ft. Natalie Wood) [d min | d min | D min | 88? ] (33)\n",
        "* Оскар - Между мной и тобой [f# min | f# min  | F# min | 90] (34)\n",
        "* Metric - Utopia [C Maj | C Maj | C min | 87 ] (35)\n",
        "* Emery Dreazz Luciano - Lonely [B Maj | B Maj | F# min | 87?] (36)\n",
        "* LUME - Skin [E maj | E Maj | E maj | 85] (37)\n",
        "* LUME - Something Sweeter [f# min | f# min | F# min | 83] (38)\n",
        "* London Grammar - Different Breeds [C# Maj | C# Maj | F# Maj | 140?] (39)\n",
        "* London Grammar - Non Believer [F Maj | F Maj | C min | 82] (40)\n",
        "* WILDES - Bare [c min | c min | Eb min | 130?] (41)\n",
        "\"\"\""
      ],
      "metadata": {
        "id": "VIYVU19Q1jCk"
      },
      "execution_count": 215,
      "outputs": []
    },
    {
      "cell_type": "code",
      "source": [
        "camelot_mapping = {\n",
        "  \"A maj\": \"11B\",\n",
        "  \"Ab maj\": \"4B\",\n",
        "  \"A min\": \"8A\",\n",
        "  \"B maj\": \"1B\",\n",
        "  \"Bb maj\": \"6B\",\n",
        "  \"Bb min\": \"3A\",\n",
        "  \"B min\": \"10A\",\n",
        "  \"C maj\": \"8B\",\n",
        "  \"Db min\": \"12A\",\n",
        "  \"C# min\": \"12A\",\n",
        "  \"C min\": \"5A\",\n",
        "  \"D maj\": \"10B\",\n",
        "  \"Db maj\": \"3B\",\n",
        "  \"D min\": \"7A\",\n",
        "  \"E maj\": \"12B\",\n",
        "  \"Eb maj\": \"5B\",\n",
        "  \"Eb min\": \"2A\",\n",
        "  \"E min\": \"9A\",\n",
        "  \"F maj\": \"7B\",\n",
        "  \"F# min\": \"11A\",\n",
        "  \"F min\": \"4A\",\n",
        "  \"G maj\": \"9B\",\n",
        "  \"Ab min\": \"1A\",\n",
        "  \"G# min\": \"1A\",\n",
        "  \"F# maj\": \"2B\",\n",
        "  \"Gb maj\": \"2B\",\n",
        "  \"G min\": \"6A\",\n",
        "\n",
        "  ### Augmentations\n",
        "  \"D# min\": \"2A\",\n",
        "  \"A# maj\": \"6B\",\n",
        "  \"C# maj\": \"3B\",\n",
        "  \"A# min\": \"3A\",\n",
        "}\n",
        "\n",
        "camelot_mapping = { key.lower() : value for key, value in camelot_mapping.items() }"
      ],
      "metadata": {
        "id": "l59l3qq2TMI6"
      },
      "execution_count": 216,
      "outputs": []
    },
    {
      "cell_type": "code",
      "source": [
        "import re"
      ],
      "metadata": {
        "id": "HuySDufT66Hg"
      },
      "execution_count": 217,
      "outputs": []
    },
    {
      "cell_type": "code",
      "source": [
        "class Song:\n",
        "  parametrs_pattern = r\"\\[([\\w\\s|#\\?]+)\\]\"\n",
        "\n",
        "  def __init__(self, raw_song_string):\n",
        "    re_search_res = re.split(self.parametrs_pattern, raw_song_string)\n",
        "    artist_and_title = re_search_res[0][:-1]\n",
        "    artist_and_title_list = artist_and_title.split(\" - \")\n",
        "    self.artist = artist_and_title_list[0]\n",
        "    self.song_name = artist_and_title_list[1]\n",
        "    \n",
        "    keys_and_bpm = re_search_res[1].lower()\n",
        "    keys_and_bpm_list = keys_and_bpm.split(\"|\")\n",
        "    keys_and_bpm_list = list(map(lambda keys_and_bpm_list: keys_and_bpm_list.strip(), keys_and_bpm_list))\n",
        "\n",
        "    self.gsk_optimum_key = keys_and_bpm_list[0]\n",
        "    self.gsk_maximum_key = keys_and_bpm_list[1]\n",
        "    self.tb_key = keys_and_bpm_list[2]\n",
        "    \n",
        "\n",
        "  @property\n",
        "  def gsk_optimum_camelot(self):\n",
        "      return camelot_mapping[self.gsk_optimum_key.lower()]\n",
        "\n",
        "\n",
        "  @property\n",
        "  def gsk_maximum_camelot(self):\n",
        "      return camelot_mapping[self.gsk_maximum_key.lower()]\n",
        "\n",
        "\n",
        "  @property\n",
        "  def tb_key_camelot(self):\n",
        "      return camelot_mapping[self.tb_key.lower()]"
      ],
      "metadata": {
        "id": "Md3d9YjE7AkF"
      },
      "execution_count": 218,
      "outputs": []
    },
    {
      "cell_type": "code",
      "source": [
        "def parse_songs(raw_string):\n",
        "  song_raw_strings = raw_string.split(\"\\n* \")\n",
        "  song_raw_strings = list(filter(lambda x: x != '', song_raw_strings))\n",
        "  songs = list(map(lambda raw_song_string: Song(raw_song_string=raw_song_string), song_raw_strings))\n",
        "  return songs"
      ],
      "metadata": {
        "id": "qIhuLL-z1X5y"
      },
      "execution_count": 219,
      "outputs": []
    },
    {
      "cell_type": "code",
      "source": [
        "songs = parse_songs(raw_music_string)"
      ],
      "metadata": {
        "id": "xsG297BHDrEi"
      },
      "execution_count": 220,
      "outputs": []
    },
    {
      "cell_type": "code",
      "source": [
        "def count_key(key_dict, key):\n",
        "  if key not in key_dict:\n",
        "    key_dict[key] = 0\n",
        "  \n",
        "  key_dict[key] = key_dict[key] + 1"
      ],
      "metadata": {
        "id": "_UC_POhXE1__"
      },
      "execution_count": 221,
      "outputs": []
    },
    {
      "cell_type": "code",
      "source": [
        "gsk_optimum_camelot_count = {}\n",
        "gsk_maximum_camelot_count = {}\n",
        "tb_key_camelot_count = {}\n",
        "\n",
        "for song in songs:\n",
        "  count_key(gsk_optimum_camelot_count, song.gsk_optimum_camelot)\n",
        "  count_key(gsk_maximum_camelot_count, song.gsk_maximum_camelot)\n",
        "  count_key(tb_key_camelot_count, song.tb_key_camelot)"
      ],
      "metadata": {
        "id": "ylYORA7TDzgt"
      },
      "execution_count": 222,
      "outputs": []
    },
    {
      "cell_type": "code",
      "source": [
        "print(gsk_optimum_camelot_count)\n",
        "print(gsk_maximum_camelot_count)\n",
        "print(tb_key_camelot_count)"
      ],
      "metadata": {
        "colab": {
          "base_uri": "https://localhost:8080/"
        },
        "id": "6ufzDWgjFvXI",
        "outputId": "b1899c6e-0002-439f-9b59-7a45a790ea8a"
      },
      "execution_count": 223,
      "outputs": [
        {
          "output_type": "stream",
          "name": "stdout",
          "text": [
            "{'8B': 4, '6A': 5, '2A': 2, '12B': 2, '1A': 2, '4A': 4, '12A': 2, '1B': 2, '7B': 2, '10A': 1, '8A': 2, '7A': 4, '6B': 1, '9A': 1, '11A': 3, '3B': 2, '3A': 1, '5A': 1}\n",
            "{'8A': 2, '7B': 3, '2A': 2, '12B': 2, '1A': 3, '4A': 5, '6A': 4, '12A': 1, '5A': 2, '1B': 2, '10A': 1, '7A': 4, '6B': 2, '9A': 1, '8B': 2, '11B': 1, '3A': 1, '11A': 2, '3B': 1}\n",
            "{'8A': 3, '7A': 4, '2A': 3, '9A': 2, '1A': 2, '4A': 3, '6A': 4, '12A': 2, '5A': 5, '12B': 2, '7B': 2, '10A': 1, '6B': 1, '10B': 1, '3A': 2, '11A': 3, '2B': 1}\n"
          ]
        }
      ]
    },
    {
      "cell_type": "markdown",
      "source": [
        ""
      ],
      "metadata": {
        "id": "5HDG5Sy1TJl4"
      }
    }
  ]
}