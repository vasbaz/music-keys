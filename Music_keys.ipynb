{
  "nbformat": 4,
  "nbformat_minor": 0,
  "metadata": {
    "colab": {
      "name": "Music keys.ipynb",
      "provenance": [],
      "authorship_tag": "ABX9TyPkbsxc++DClWjhVtoY9+bT"
    },
    "kernelspec": {
      "name": "python3",
      "display_name": "Python 3"
    },
    "language_info": {
      "name": "python"
    }
  },
  "cells": [
    {
      "cell_type": "markdown",
      "source": [
        "# Favorite music keys"
      ],
      "metadata": {
        "id": "IcdUvTXM0v2H"
      }
    },
    {
      "cell_type": "code",
      "source": [
        ""
      ],
      "metadata": {
        "id": "m9JyCCN70xlN"
      },
      "execution_count": null,
      "outputs": []
    }
  ]
}