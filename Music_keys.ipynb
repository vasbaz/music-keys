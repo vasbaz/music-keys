{
  "nbformat": 4,
  "nbformat_minor": 0,
  "metadata": {
    "colab": {
      "name": "Music keys.ipynb",
      "provenance": [],
      "authorship_tag": "ABX9TyPWrmyiJfuP8ZZXIdpWFhcv"
    },
    "kernelspec": {
      "name": "python3",
      "display_name": "Python 3"
    },
    "language_info": {
      "name": "python"
    }
  },
  "cells": [
    {
      "cell_type": "markdown",
      "source": [
        "# Favorite music keys"
      ],
      "metadata": {
        "id": "IcdUvTXM0v2H"
      }
    },
    {
      "cell_type": "markdown",
      "source": [
        "## Init data"
      ],
      "metadata": {
        "id": "qVDz9UWz4xvl"
      }
    },
    {
      "cell_type": "code",
      "source": [
        "raw_music_string = \"\"\"\n",
        "* Liam Thomas - Arcturus [C Maj | a min | A min | 130] (1)\n",
        "* Liam Thomas - Tonight We Fly [g min | F Maj | D min | 120] (2)\n",
        "* Artificial Endorphins - Warm Embrace [d# min | d# min | Eb min | 70] (3)\n",
        "* Artificial Endorphins - Melting Ice [E Maj | E Maj | E min | 139] (4)\n",
        "* Blackmill Feat Cat Martin - Don’t Let Me Down [g# min | g# min | Ab min | 82? ] (5)\n",
        "* Technimatic - Holding On ft Matt Wilson [f min | f min | F min | 87? ] (6)\n",
        "* Jeremy Soule - Secunda [g min | g min | G min | 91] (7)\n",
        "* Jeremy Soule - Jata [g min | g min | G min | 60] (8)\n",
        "* Alexandre Desplat - Lily’s theme (YouTube piano) [c# min | c# min | c# min | 82] (9)\n",
        "* Andy Leech - René [d# min | d# min | Eb min | 135] (10)\n",
        "* Andy Leech - Solar Fields [C maj | c min | C min | 139] (11)\n",
        "* Alex Lustig - Free Form [B maj | B maj | E maj | 103] (12)\n",
        "* Alex Lustig - Eclipse [F maj | F Maj | F maj | 101] (13)\n",
        "* Technimatic -  Foreshadow Interlude [b min | b min | B min | 85] (14)\n",
        "* Enigma - Sadeness Part I [a min | a min | A min | 96] (15)\n",
        "* Aquilo - It All Comes Down to This [d min | d min | D min | 115] (16)\n",
        "* AK - Discovery [c# min | g# min | C# min | 77] (17)\n",
        "* AK - Wanderlust [A# Maj | A# Maj | Bb Maj | 87] (18)\n",
        "* AK - It Takes Time [g min | g min | G min | 121] (19)\n",
        "* AK - Blossom [g min | g min | G min | 87] (20)\n",
        "* AK - Gone [f min | f min | F min | 144] (21)\n",
        "* AK - Icicle [e min | e min | E min | 87] (22)\n",
        "* 36 - Room 2 [a min | f min | F min | 111] (23)\n",
        "* Sebastian Davidson - River Battles [f min | A# Maj | C min | 110] (24)\n",
        "* Technimatic - Music Is Music [C Maj | C Maj | C min | 86? ] (25)\n",
        "* Future - Mask Off [d min | d min | D maj | 75] (26)\n",
        "* Three Drives on a Vinyl - Greece 2000 (Sebastian Davidson) [g# min | g# min | Ab min | 105] (27)\n",
        "* The Witcher 3: Wild Hunt - Kaer Morhen (Piano Cover) [d min | d min | D min | 139?] (28)\n",
        "* Blessed mane - Youth [f# min | A maj | A min | 140] phonk (29)\n",
        "* Sakureye - Lullaby [C# Maj | f min | Bb min |  51?] phonk (30)\n",
        "* Luciano (DnB) - Threads [a# min | a# min | Bb min | 87? ] (31)\n",
        "* Matrix Futurebound - Believe [f min | f min | F Maj | 87? ] (32)\n",
        "* Polaris - Obsidian (ft. Natalie Wood) [d min | d min | D min | 88? ] (33)\n",
        "* Оскар - Между мной и тобой [f# min | f# min  | F# min | 90] (34)\n",
        "* Metric - Utopia [C Maj | C Maj | C min | 87 ] (35)\n",
        "* Emery Dreazz Luciano - Lonely [B Maj | B Maj | F# min | 87?] (36)\n",
        "* LUME - Skin [E maj | E Maj | E maj | 85] (37)\n",
        "* LUME - Something Sweeter [f# min | f# min | F# min | 83] (38)\n",
        "* London Grammar - Different Breeds [C# Maj | C# Maj | F# Maj | 140?] (39)\n",
        "* London Grammar - Non Believer [F Maj | F Maj | C min | 82] (40)\n",
        "* WILDES - Bare [c min | c min | Eb min | 130?] (41)\n",
        "\"\"\""
      ],
      "metadata": {
        "id": "VIYVU19Q1jCk"
      },
      "execution_count": 1,
      "outputs": []
    },
    {
      "cell_type": "code",
      "source": [
        "camelot_mapping = {\n",
        "  \"A maj\": \"11B\",\n",
        "  \"Ab maj\": \"4B\",\n",
        "  \"A min\": \"8A\",\n",
        "  \"B maj\": \"1B\",\n",
        "  \"Bb maj\": \"6B\",\n",
        "  \"Bb min\": \"3A\",\n",
        "  \"B min\": \"10A\",\n",
        "  \"C maj\": \"8B\",\n",
        "  \"Db min\": \"12A\",\n",
        "  \"C# min\": \"12A\",\n",
        "  \"C min\": \"5A\",\n",
        "  \"D maj\": \"10B\",\n",
        "  \"Db maj\": \"3B\",\n",
        "  \"D min\": \"7A\",\n",
        "  \"E maj\": \"12B\",\n",
        "  \"Eb maj\": \"5B\",\n",
        "  \"Eb min\": \"2A\",\n",
        "  \"E min\": \"9A\",\n",
        "  \"F maj\": \"7B\",\n",
        "  \"F# min\": \"11A\",\n",
        "  \"F min\": \"4A\",\n",
        "  \"G maj\": \"9B\",\n",
        "  \"Ab min\": \"1A\",\n",
        "  \"G# min\": \"1A\",\n",
        "  \"F# maj\": \"2B\",\n",
        "  \"Gb maj\": \"2B\",\n",
        "  \"G min\": \"6A\",\n",
        "\n",
        "  ### Augmentations\n",
        "  \"D# min\": \"2A\",\n",
        "  \"A# maj\": \"6B\",\n",
        "  \"C# maj\": \"3B\",\n",
        "  \"A# min\": \"3A\",\n",
        "}\n",
        "\n",
        "camelot_mapping = { key.lower() : value for key, value in camelot_mapping.items() }"
      ],
      "metadata": {
        "id": "l59l3qq2TMI6"
      },
      "execution_count": 2,
      "outputs": []
    },
    {
      "cell_type": "markdown",
      "source": [
        "## Parsing mechanics"
      ],
      "metadata": {
        "id": "Ypu1JW_j492Y"
      }
    },
    {
      "cell_type": "code",
      "source": [
        "import re"
      ],
      "metadata": {
        "id": "HuySDufT66Hg"
      },
      "execution_count": 3,
      "outputs": []
    },
    {
      "cell_type": "code",
      "source": [
        "class Song:\n",
        "  parametrs_pattern = r\"\\[([\\w\\s|#\\?]+)\\]\"\n",
        "\n",
        "  def __init__(self, raw_song_string):\n",
        "    re_search_res = re.split(self.parametrs_pattern, raw_song_string)\n",
        "    artist_and_title = re_search_res[0][:-1]\n",
        "    artist_and_title_list = artist_and_title.split(\" - \")\n",
        "    self.artist = artist_and_title_list[0]\n",
        "    self.song_name = artist_and_title_list[1]\n",
        "    \n",
        "    keys_and_bpm = re_search_res[1].lower()\n",
        "    keys_and_bpm_list = keys_and_bpm.split(\"|\")\n",
        "    keys_and_bpm_list = list(map(lambda keys_and_bpm_list: keys_and_bpm_list.strip(), keys_and_bpm_list))\n",
        "\n",
        "    self.gsk_optimum_key = keys_and_bpm_list[0]\n",
        "    self.gsk_maximum_key = keys_and_bpm_list[1]\n",
        "    self.tb_key = keys_and_bpm_list[2]\n",
        "    \n",
        "\n",
        "  @property\n",
        "  def gsk_optimum_camelot(self):\n",
        "      return camelot_mapping[self.gsk_optimum_key.lower()]\n",
        "\n",
        "\n",
        "  @property\n",
        "  def gsk_maximum_camelot(self):\n",
        "      return camelot_mapping[self.gsk_maximum_key.lower()]\n",
        "\n",
        "\n",
        "  @property\n",
        "  def tb_key_camelot(self):\n",
        "      return camelot_mapping[self.tb_key.lower()]\n",
        " \n",
        "\n",
        "  def __repr__(self):\n",
        "      return self.artist + \" - \" + self.song_name + \" [gsk: \" + self.gsk_maximum_camelot + \"]\" + \" [tb: \" + self.tb_key_camelot + \"]\""
      ],
      "metadata": {
        "id": "Md3d9YjE7AkF"
      },
      "execution_count": 4,
      "outputs": []
    },
    {
      "cell_type": "code",
      "source": [
        "def parse_songs(raw_string):\n",
        "  song_raw_strings = raw_string.split(\"\\n* \")\n",
        "  song_raw_strings = list(filter(lambda x: x != '', song_raw_strings))\n",
        "  songs = list(map(lambda raw_song_string: Song(raw_song_string=raw_song_string), song_raw_strings))\n",
        "  return songs"
      ],
      "metadata": {
        "id": "qIhuLL-z1X5y"
      },
      "execution_count": 5,
      "outputs": []
    },
    {
      "cell_type": "markdown",
      "source": [
        "## Data processing"
      ],
      "metadata": {
        "id": "MJi04RDG5HbX"
      }
    },
    {
      "cell_type": "code",
      "source": [
        "songs = parse_songs(raw_music_string)"
      ],
      "metadata": {
        "id": "xsG297BHDrEi"
      },
      "execution_count": 6,
      "outputs": []
    },
    {
      "cell_type": "code",
      "source": [
        "def count_key(key_dict, key):\n",
        "  if key not in key_dict:\n",
        "    key_dict[key] = 0\n",
        "  \n",
        "  key_dict[key] = key_dict[key] + 1"
      ],
      "metadata": {
        "id": "_UC_POhXE1__"
      },
      "execution_count": 7,
      "outputs": []
    },
    {
      "cell_type": "code",
      "source": [
        "gsk_optimum_camelot_count = {}\n",
        "gsk_maximum_camelot_count = {}\n",
        "tb_key_camelot_count = {}\n",
        "\n",
        "for song in songs:\n",
        "  count_key(gsk_optimum_camelot_count, song.gsk_optimum_camelot)\n",
        "  count_key(gsk_maximum_camelot_count, song.gsk_maximum_camelot)\n",
        "  count_key(tb_key_camelot_count, song.tb_key_camelot)"
      ],
      "metadata": {
        "id": "ylYORA7TDzgt"
      },
      "execution_count": 8,
      "outputs": []
    },
    {
      "cell_type": "code",
      "source": [
        "import pandas as pd\n",
        "import plotly.express as px"
      ],
      "metadata": {
        "id": "X1CsZKnIdt1I"
      },
      "execution_count": 9,
      "outputs": []
    },
    {
      "cell_type": "code",
      "source": [
        "def get_df_from_count_dict(count_dict):\n",
        "  index = [str((i + 2) // 2) + \"A\" if (i + 2) % 2 == 0 else str((i + 2) // 2) + \"B\" for i in range(24)]\n",
        "  df = pd.DataFrame({\"count\": count_dict}, index=index, dtype=pd.Int64Dtype())\n",
        "  df[\"letter\"] = df.index.map(lambda i: i[-1])\n",
        "  df[\"number\"] = df.index.map(lambda i: i[:-1])\n",
        "  df = df.fillna(0)\n",
        "  return df"
      ],
      "metadata": {
        "id": "RnFVxx6alMRY"
      },
      "execution_count": 10,
      "outputs": []
    },
    {
      "cell_type": "markdown",
      "source": [
        "## Results"
      ],
      "metadata": {
        "id": "19f7ohDm5S98"
      }
    },
    {
      "cell_type": "markdown",
      "source": [
        "### GSK Maximum"
      ],
      "metadata": {
        "id": "0l2-qazu5Wie"
      }
    },
    {
      "cell_type": "code",
      "source": [
        "gsk_maximum_df = get_df_from_count_dict(gsk_maximum_camelot_count)\n",
        "\n",
        "fig = px.bar(gsk_maximum_df, x=\"number\", y=\"count\", color=\"letter\", title=\"Favorite camelot keys (gsk_maximum)\")\n",
        "fig.show()"
      ],
      "metadata": {
        "colab": {
          "base_uri": "https://localhost:8080/",
          "height": 562
        },
        "id": "irjTYP45qXWe",
        "outputId": "ccd5bd7b-ceb3-4d24-fecb-e622d0a0ee9c"
      },
      "execution_count": 11,
      "outputs": [
        {
          "output_type": "display_data",
          "data": {
            "text/html": [
              "<html>\n",
              "<head><meta charset=\"utf-8\" /></head>\n",
              "<body>\n",
              "    <div>            <script src=\"https://cdnjs.cloudflare.com/ajax/libs/mathjax/2.7.5/MathJax.js?config=TeX-AMS-MML_SVG\"></script><script type=\"text/javascript\">if (window.MathJax) {MathJax.Hub.Config({SVG: {font: \"STIX-Web\"}});}</script>                <script type=\"text/javascript\">window.PlotlyConfig = {MathJaxConfig: 'local'};</script>\n",
              "        <script src=\"https://cdn.plot.ly/plotly-2.8.3.min.js\"></script>                <div id=\"e3240bfa-d7ce-4cba-99f5-4673184beb65\" class=\"plotly-graph-div\" style=\"height:525px; width:100%;\"></div>            <script type=\"text/javascript\">                                    window.PLOTLYENV=window.PLOTLYENV || {};                                    if (document.getElementById(\"e3240bfa-d7ce-4cba-99f5-4673184beb65\")) {                    Plotly.newPlot(                        \"e3240bfa-d7ce-4cba-99f5-4673184beb65\",                        [{\"alignmentgroup\":\"True\",\"hovertemplate\":\"letter=A<br>number=%{x}<br>count=%{y}<extra></extra>\",\"legendgroup\":\"A\",\"marker\":{\"color\":\"#636efa\",\"pattern\":{\"shape\":\"\"}},\"name\":\"A\",\"offsetgroup\":\"A\",\"orientation\":\"v\",\"showlegend\":true,\"textposition\":\"auto\",\"x\":[\"1\",\"2\",\"3\",\"4\",\"5\",\"6\",\"7\",\"8\",\"9\",\"10\",\"11\",\"12\"],\"xaxis\":\"x\",\"y\":[3,2,1,5,2,4,4,2,1,1,2,1],\"yaxis\":\"y\",\"type\":\"bar\"},{\"alignmentgroup\":\"True\",\"hovertemplate\":\"letter=B<br>number=%{x}<br>count=%{y}<extra></extra>\",\"legendgroup\":\"B\",\"marker\":{\"color\":\"#EF553B\",\"pattern\":{\"shape\":\"\"}},\"name\":\"B\",\"offsetgroup\":\"B\",\"orientation\":\"v\",\"showlegend\":true,\"textposition\":\"auto\",\"x\":[\"1\",\"2\",\"3\",\"4\",\"5\",\"6\",\"7\",\"8\",\"9\",\"10\",\"11\",\"12\"],\"xaxis\":\"x\",\"y\":[2,0,1,0,0,2,3,2,0,0,1,2],\"yaxis\":\"y\",\"type\":\"bar\"}],                        {\"template\":{\"data\":{\"bar\":[{\"error_x\":{\"color\":\"#2a3f5f\"},\"error_y\":{\"color\":\"#2a3f5f\"},\"marker\":{\"line\":{\"color\":\"#E5ECF6\",\"width\":0.5},\"pattern\":{\"fillmode\":\"overlay\",\"size\":10,\"solidity\":0.2}},\"type\":\"bar\"}],\"barpolar\":[{\"marker\":{\"line\":{\"color\":\"#E5ECF6\",\"width\":0.5},\"pattern\":{\"fillmode\":\"overlay\",\"size\":10,\"solidity\":0.2}},\"type\":\"barpolar\"}],\"carpet\":[{\"aaxis\":{\"endlinecolor\":\"#2a3f5f\",\"gridcolor\":\"white\",\"linecolor\":\"white\",\"minorgridcolor\":\"white\",\"startlinecolor\":\"#2a3f5f\"},\"baxis\":{\"endlinecolor\":\"#2a3f5f\",\"gridcolor\":\"white\",\"linecolor\":\"white\",\"minorgridcolor\":\"white\",\"startlinecolor\":\"#2a3f5f\"},\"type\":\"carpet\"}],\"choropleth\":[{\"colorbar\":{\"outlinewidth\":0,\"ticks\":\"\"},\"type\":\"choropleth\"}],\"contour\":[{\"colorbar\":{\"outlinewidth\":0,\"ticks\":\"\"},\"colorscale\":[[0.0,\"#0d0887\"],[0.1111111111111111,\"#46039f\"],[0.2222222222222222,\"#7201a8\"],[0.3333333333333333,\"#9c179e\"],[0.4444444444444444,\"#bd3786\"],[0.5555555555555556,\"#d8576b\"],[0.6666666666666666,\"#ed7953\"],[0.7777777777777778,\"#fb9f3a\"],[0.8888888888888888,\"#fdca26\"],[1.0,\"#f0f921\"]],\"type\":\"contour\"}],\"contourcarpet\":[{\"colorbar\":{\"outlinewidth\":0,\"ticks\":\"\"},\"type\":\"contourcarpet\"}],\"heatmap\":[{\"colorbar\":{\"outlinewidth\":0,\"ticks\":\"\"},\"colorscale\":[[0.0,\"#0d0887\"],[0.1111111111111111,\"#46039f\"],[0.2222222222222222,\"#7201a8\"],[0.3333333333333333,\"#9c179e\"],[0.4444444444444444,\"#bd3786\"],[0.5555555555555556,\"#d8576b\"],[0.6666666666666666,\"#ed7953\"],[0.7777777777777778,\"#fb9f3a\"],[0.8888888888888888,\"#fdca26\"],[1.0,\"#f0f921\"]],\"type\":\"heatmap\"}],\"heatmapgl\":[{\"colorbar\":{\"outlinewidth\":0,\"ticks\":\"\"},\"colorscale\":[[0.0,\"#0d0887\"],[0.1111111111111111,\"#46039f\"],[0.2222222222222222,\"#7201a8\"],[0.3333333333333333,\"#9c179e\"],[0.4444444444444444,\"#bd3786\"],[0.5555555555555556,\"#d8576b\"],[0.6666666666666666,\"#ed7953\"],[0.7777777777777778,\"#fb9f3a\"],[0.8888888888888888,\"#fdca26\"],[1.0,\"#f0f921\"]],\"type\":\"heatmapgl\"}],\"histogram\":[{\"marker\":{\"pattern\":{\"fillmode\":\"overlay\",\"size\":10,\"solidity\":0.2}},\"type\":\"histogram\"}],\"histogram2d\":[{\"colorbar\":{\"outlinewidth\":0,\"ticks\":\"\"},\"colorscale\":[[0.0,\"#0d0887\"],[0.1111111111111111,\"#46039f\"],[0.2222222222222222,\"#7201a8\"],[0.3333333333333333,\"#9c179e\"],[0.4444444444444444,\"#bd3786\"],[0.5555555555555556,\"#d8576b\"],[0.6666666666666666,\"#ed7953\"],[0.7777777777777778,\"#fb9f3a\"],[0.8888888888888888,\"#fdca26\"],[1.0,\"#f0f921\"]],\"type\":\"histogram2d\"}],\"histogram2dcontour\":[{\"colorbar\":{\"outlinewidth\":0,\"ticks\":\"\"},\"colorscale\":[[0.0,\"#0d0887\"],[0.1111111111111111,\"#46039f\"],[0.2222222222222222,\"#7201a8\"],[0.3333333333333333,\"#9c179e\"],[0.4444444444444444,\"#bd3786\"],[0.5555555555555556,\"#d8576b\"],[0.6666666666666666,\"#ed7953\"],[0.7777777777777778,\"#fb9f3a\"],[0.8888888888888888,\"#fdca26\"],[1.0,\"#f0f921\"]],\"type\":\"histogram2dcontour\"}],\"mesh3d\":[{\"colorbar\":{\"outlinewidth\":0,\"ticks\":\"\"},\"type\":\"mesh3d\"}],\"parcoords\":[{\"line\":{\"colorbar\":{\"outlinewidth\":0,\"ticks\":\"\"}},\"type\":\"parcoords\"}],\"pie\":[{\"automargin\":true,\"type\":\"pie\"}],\"scatter\":[{\"marker\":{\"colorbar\":{\"outlinewidth\":0,\"ticks\":\"\"}},\"type\":\"scatter\"}],\"scatter3d\":[{\"line\":{\"colorbar\":{\"outlinewidth\":0,\"ticks\":\"\"}},\"marker\":{\"colorbar\":{\"outlinewidth\":0,\"ticks\":\"\"}},\"type\":\"scatter3d\"}],\"scattercarpet\":[{\"marker\":{\"colorbar\":{\"outlinewidth\":0,\"ticks\":\"\"}},\"type\":\"scattercarpet\"}],\"scattergeo\":[{\"marker\":{\"colorbar\":{\"outlinewidth\":0,\"ticks\":\"\"}},\"type\":\"scattergeo\"}],\"scattergl\":[{\"marker\":{\"colorbar\":{\"outlinewidth\":0,\"ticks\":\"\"}},\"type\":\"scattergl\"}],\"scattermapbox\":[{\"marker\":{\"colorbar\":{\"outlinewidth\":0,\"ticks\":\"\"}},\"type\":\"scattermapbox\"}],\"scatterpolar\":[{\"marker\":{\"colorbar\":{\"outlinewidth\":0,\"ticks\":\"\"}},\"type\":\"scatterpolar\"}],\"scatterpolargl\":[{\"marker\":{\"colorbar\":{\"outlinewidth\":0,\"ticks\":\"\"}},\"type\":\"scatterpolargl\"}],\"scatterternary\":[{\"marker\":{\"colorbar\":{\"outlinewidth\":0,\"ticks\":\"\"}},\"type\":\"scatterternary\"}],\"surface\":[{\"colorbar\":{\"outlinewidth\":0,\"ticks\":\"\"},\"colorscale\":[[0.0,\"#0d0887\"],[0.1111111111111111,\"#46039f\"],[0.2222222222222222,\"#7201a8\"],[0.3333333333333333,\"#9c179e\"],[0.4444444444444444,\"#bd3786\"],[0.5555555555555556,\"#d8576b\"],[0.6666666666666666,\"#ed7953\"],[0.7777777777777778,\"#fb9f3a\"],[0.8888888888888888,\"#fdca26\"],[1.0,\"#f0f921\"]],\"type\":\"surface\"}],\"table\":[{\"cells\":{\"fill\":{\"color\":\"#EBF0F8\"},\"line\":{\"color\":\"white\"}},\"header\":{\"fill\":{\"color\":\"#C8D4E3\"},\"line\":{\"color\":\"white\"}},\"type\":\"table\"}]},\"layout\":{\"annotationdefaults\":{\"arrowcolor\":\"#2a3f5f\",\"arrowhead\":0,\"arrowwidth\":1},\"autotypenumbers\":\"strict\",\"coloraxis\":{\"colorbar\":{\"outlinewidth\":0,\"ticks\":\"\"}},\"colorscale\":{\"diverging\":[[0,\"#8e0152\"],[0.1,\"#c51b7d\"],[0.2,\"#de77ae\"],[0.3,\"#f1b6da\"],[0.4,\"#fde0ef\"],[0.5,\"#f7f7f7\"],[0.6,\"#e6f5d0\"],[0.7,\"#b8e186\"],[0.8,\"#7fbc41\"],[0.9,\"#4d9221\"],[1,\"#276419\"]],\"sequential\":[[0.0,\"#0d0887\"],[0.1111111111111111,\"#46039f\"],[0.2222222222222222,\"#7201a8\"],[0.3333333333333333,\"#9c179e\"],[0.4444444444444444,\"#bd3786\"],[0.5555555555555556,\"#d8576b\"],[0.6666666666666666,\"#ed7953\"],[0.7777777777777778,\"#fb9f3a\"],[0.8888888888888888,\"#fdca26\"],[1.0,\"#f0f921\"]],\"sequentialminus\":[[0.0,\"#0d0887\"],[0.1111111111111111,\"#46039f\"],[0.2222222222222222,\"#7201a8\"],[0.3333333333333333,\"#9c179e\"],[0.4444444444444444,\"#bd3786\"],[0.5555555555555556,\"#d8576b\"],[0.6666666666666666,\"#ed7953\"],[0.7777777777777778,\"#fb9f3a\"],[0.8888888888888888,\"#fdca26\"],[1.0,\"#f0f921\"]]},\"colorway\":[\"#636efa\",\"#EF553B\",\"#00cc96\",\"#ab63fa\",\"#FFA15A\",\"#19d3f3\",\"#FF6692\",\"#B6E880\",\"#FF97FF\",\"#FECB52\"],\"font\":{\"color\":\"#2a3f5f\"},\"geo\":{\"bgcolor\":\"white\",\"lakecolor\":\"white\",\"landcolor\":\"#E5ECF6\",\"showlakes\":true,\"showland\":true,\"subunitcolor\":\"white\"},\"hoverlabel\":{\"align\":\"left\"},\"hovermode\":\"closest\",\"mapbox\":{\"style\":\"light\"},\"paper_bgcolor\":\"white\",\"plot_bgcolor\":\"#E5ECF6\",\"polar\":{\"angularaxis\":{\"gridcolor\":\"white\",\"linecolor\":\"white\",\"ticks\":\"\"},\"bgcolor\":\"#E5ECF6\",\"radialaxis\":{\"gridcolor\":\"white\",\"linecolor\":\"white\",\"ticks\":\"\"}},\"scene\":{\"xaxis\":{\"backgroundcolor\":\"#E5ECF6\",\"gridcolor\":\"white\",\"gridwidth\":2,\"linecolor\":\"white\",\"showbackground\":true,\"ticks\":\"\",\"zerolinecolor\":\"white\"},\"yaxis\":{\"backgroundcolor\":\"#E5ECF6\",\"gridcolor\":\"white\",\"gridwidth\":2,\"linecolor\":\"white\",\"showbackground\":true,\"ticks\":\"\",\"zerolinecolor\":\"white\"},\"zaxis\":{\"backgroundcolor\":\"#E5ECF6\",\"gridcolor\":\"white\",\"gridwidth\":2,\"linecolor\":\"white\",\"showbackground\":true,\"ticks\":\"\",\"zerolinecolor\":\"white\"}},\"shapedefaults\":{\"line\":{\"color\":\"#2a3f5f\"}},\"ternary\":{\"aaxis\":{\"gridcolor\":\"white\",\"linecolor\":\"white\",\"ticks\":\"\"},\"baxis\":{\"gridcolor\":\"white\",\"linecolor\":\"white\",\"ticks\":\"\"},\"bgcolor\":\"#E5ECF6\",\"caxis\":{\"gridcolor\":\"white\",\"linecolor\":\"white\",\"ticks\":\"\"}},\"title\":{\"x\":0.05},\"xaxis\":{\"automargin\":true,\"gridcolor\":\"white\",\"linecolor\":\"white\",\"ticks\":\"\",\"title\":{\"standoff\":15},\"zerolinecolor\":\"white\",\"zerolinewidth\":2},\"yaxis\":{\"automargin\":true,\"gridcolor\":\"white\",\"linecolor\":\"white\",\"ticks\":\"\",\"title\":{\"standoff\":15},\"zerolinecolor\":\"white\",\"zerolinewidth\":2}}},\"xaxis\":{\"anchor\":\"y\",\"domain\":[0.0,1.0],\"title\":{\"text\":\"number\"}},\"yaxis\":{\"anchor\":\"x\",\"domain\":[0.0,1.0],\"title\":{\"text\":\"count\"}},\"legend\":{\"title\":{\"text\":\"letter\"},\"tracegroupgap\":0},\"title\":{\"text\":\"Favorite camelot keys (gsk_maximum)\"},\"barmode\":\"relative\"},                        {\"responsive\": true}                    ).then(function(){\n",
              "                            \n",
              "var gd = document.getElementById('e3240bfa-d7ce-4cba-99f5-4673184beb65');\n",
              "var x = new MutationObserver(function (mutations, observer) {{\n",
              "        var display = window.getComputedStyle(gd).display;\n",
              "        if (!display || display === 'none') {{\n",
              "            console.log([gd, 'removed!']);\n",
              "            Plotly.purge(gd);\n",
              "            observer.disconnect();\n",
              "        }}\n",
              "}});\n",
              "\n",
              "// Listen for the removal of the full notebook cells\n",
              "var notebookContainer = gd.closest('#notebook-container');\n",
              "if (notebookContainer) {{\n",
              "    x.observe(notebookContainer, {childList: true});\n",
              "}}\n",
              "\n",
              "// Listen for the clearing of the current output cell\n",
              "var outputEl = gd.closest('.output');\n",
              "if (outputEl) {{\n",
              "    x.observe(outputEl, {childList: true});\n",
              "}}\n",
              "\n",
              "                        })                };                            </script>        </div>\n",
              "</body>\n",
              "</html>"
            ]
          },
          "metadata": {}
        }
      ]
    },
    {
      "cell_type": "markdown",
      "source": [
        "### TB"
      ],
      "metadata": {
        "id": "Q9PEWfna5es7"
      }
    },
    {
      "cell_type": "code",
      "source": [
        "tb_df = get_df_from_count_dict(tb_key_camelot_count)\n",
        "\n",
        "fig = px.bar(tb_df, x=\"number\", y=\"count\", color=\"letter\", title=\"Favorite camelot keys (tb)\")\n",
        "fig.show()"
      ],
      "metadata": {
        "colab": {
          "base_uri": "https://localhost:8080/",
          "height": 542
        },
        "id": "UoCpK7vFqiUm",
        "outputId": "1264f300-832c-4509-f56c-31e43203ea19"
      },
      "execution_count": 12,
      "outputs": [
        {
          "output_type": "display_data",
          "data": {
            "text/html": [
              "<html>\n",
              "<head><meta charset=\"utf-8\" /></head>\n",
              "<body>\n",
              "    <div>            <script src=\"https://cdnjs.cloudflare.com/ajax/libs/mathjax/2.7.5/MathJax.js?config=TeX-AMS-MML_SVG\"></script><script type=\"text/javascript\">if (window.MathJax) {MathJax.Hub.Config({SVG: {font: \"STIX-Web\"}});}</script>                <script type=\"text/javascript\">window.PlotlyConfig = {MathJaxConfig: 'local'};</script>\n",
              "        <script src=\"https://cdn.plot.ly/plotly-2.8.3.min.js\"></script>                <div id=\"fec0b5cc-ebbb-4bb1-b087-831e04172737\" class=\"plotly-graph-div\" style=\"height:525px; width:100%;\"></div>            <script type=\"text/javascript\">                                    window.PLOTLYENV=window.PLOTLYENV || {};                                    if (document.getElementById(\"fec0b5cc-ebbb-4bb1-b087-831e04172737\")) {                    Plotly.newPlot(                        \"fec0b5cc-ebbb-4bb1-b087-831e04172737\",                        [{\"alignmentgroup\":\"True\",\"hovertemplate\":\"letter=A<br>number=%{x}<br>count=%{y}<extra></extra>\",\"legendgroup\":\"A\",\"marker\":{\"color\":\"#636efa\",\"pattern\":{\"shape\":\"\"}},\"name\":\"A\",\"offsetgroup\":\"A\",\"orientation\":\"v\",\"showlegend\":true,\"textposition\":\"auto\",\"x\":[\"1\",\"2\",\"3\",\"4\",\"5\",\"6\",\"7\",\"8\",\"9\",\"10\",\"11\",\"12\"],\"xaxis\":\"x\",\"y\":[2,3,2,3,5,4,4,3,2,1,3,2],\"yaxis\":\"y\",\"type\":\"bar\"},{\"alignmentgroup\":\"True\",\"hovertemplate\":\"letter=B<br>number=%{x}<br>count=%{y}<extra></extra>\",\"legendgroup\":\"B\",\"marker\":{\"color\":\"#EF553B\",\"pattern\":{\"shape\":\"\"}},\"name\":\"B\",\"offsetgroup\":\"B\",\"orientation\":\"v\",\"showlegend\":true,\"textposition\":\"auto\",\"x\":[\"1\",\"2\",\"3\",\"4\",\"5\",\"6\",\"7\",\"8\",\"9\",\"10\",\"11\",\"12\"],\"xaxis\":\"x\",\"y\":[0,1,0,0,0,1,2,0,0,1,0,2],\"yaxis\":\"y\",\"type\":\"bar\"}],                        {\"template\":{\"data\":{\"bar\":[{\"error_x\":{\"color\":\"#2a3f5f\"},\"error_y\":{\"color\":\"#2a3f5f\"},\"marker\":{\"line\":{\"color\":\"#E5ECF6\",\"width\":0.5},\"pattern\":{\"fillmode\":\"overlay\",\"size\":10,\"solidity\":0.2}},\"type\":\"bar\"}],\"barpolar\":[{\"marker\":{\"line\":{\"color\":\"#E5ECF6\",\"width\":0.5},\"pattern\":{\"fillmode\":\"overlay\",\"size\":10,\"solidity\":0.2}},\"type\":\"barpolar\"}],\"carpet\":[{\"aaxis\":{\"endlinecolor\":\"#2a3f5f\",\"gridcolor\":\"white\",\"linecolor\":\"white\",\"minorgridcolor\":\"white\",\"startlinecolor\":\"#2a3f5f\"},\"baxis\":{\"endlinecolor\":\"#2a3f5f\",\"gridcolor\":\"white\",\"linecolor\":\"white\",\"minorgridcolor\":\"white\",\"startlinecolor\":\"#2a3f5f\"},\"type\":\"carpet\"}],\"choropleth\":[{\"colorbar\":{\"outlinewidth\":0,\"ticks\":\"\"},\"type\":\"choropleth\"}],\"contour\":[{\"colorbar\":{\"outlinewidth\":0,\"ticks\":\"\"},\"colorscale\":[[0.0,\"#0d0887\"],[0.1111111111111111,\"#46039f\"],[0.2222222222222222,\"#7201a8\"],[0.3333333333333333,\"#9c179e\"],[0.4444444444444444,\"#bd3786\"],[0.5555555555555556,\"#d8576b\"],[0.6666666666666666,\"#ed7953\"],[0.7777777777777778,\"#fb9f3a\"],[0.8888888888888888,\"#fdca26\"],[1.0,\"#f0f921\"]],\"type\":\"contour\"}],\"contourcarpet\":[{\"colorbar\":{\"outlinewidth\":0,\"ticks\":\"\"},\"type\":\"contourcarpet\"}],\"heatmap\":[{\"colorbar\":{\"outlinewidth\":0,\"ticks\":\"\"},\"colorscale\":[[0.0,\"#0d0887\"],[0.1111111111111111,\"#46039f\"],[0.2222222222222222,\"#7201a8\"],[0.3333333333333333,\"#9c179e\"],[0.4444444444444444,\"#bd3786\"],[0.5555555555555556,\"#d8576b\"],[0.6666666666666666,\"#ed7953\"],[0.7777777777777778,\"#fb9f3a\"],[0.8888888888888888,\"#fdca26\"],[1.0,\"#f0f921\"]],\"type\":\"heatmap\"}],\"heatmapgl\":[{\"colorbar\":{\"outlinewidth\":0,\"ticks\":\"\"},\"colorscale\":[[0.0,\"#0d0887\"],[0.1111111111111111,\"#46039f\"],[0.2222222222222222,\"#7201a8\"],[0.3333333333333333,\"#9c179e\"],[0.4444444444444444,\"#bd3786\"],[0.5555555555555556,\"#d8576b\"],[0.6666666666666666,\"#ed7953\"],[0.7777777777777778,\"#fb9f3a\"],[0.8888888888888888,\"#fdca26\"],[1.0,\"#f0f921\"]],\"type\":\"heatmapgl\"}],\"histogram\":[{\"marker\":{\"pattern\":{\"fillmode\":\"overlay\",\"size\":10,\"solidity\":0.2}},\"type\":\"histogram\"}],\"histogram2d\":[{\"colorbar\":{\"outlinewidth\":0,\"ticks\":\"\"},\"colorscale\":[[0.0,\"#0d0887\"],[0.1111111111111111,\"#46039f\"],[0.2222222222222222,\"#7201a8\"],[0.3333333333333333,\"#9c179e\"],[0.4444444444444444,\"#bd3786\"],[0.5555555555555556,\"#d8576b\"],[0.6666666666666666,\"#ed7953\"],[0.7777777777777778,\"#fb9f3a\"],[0.8888888888888888,\"#fdca26\"],[1.0,\"#f0f921\"]],\"type\":\"histogram2d\"}],\"histogram2dcontour\":[{\"colorbar\":{\"outlinewidth\":0,\"ticks\":\"\"},\"colorscale\":[[0.0,\"#0d0887\"],[0.1111111111111111,\"#46039f\"],[0.2222222222222222,\"#7201a8\"],[0.3333333333333333,\"#9c179e\"],[0.4444444444444444,\"#bd3786\"],[0.5555555555555556,\"#d8576b\"],[0.6666666666666666,\"#ed7953\"],[0.7777777777777778,\"#fb9f3a\"],[0.8888888888888888,\"#fdca26\"],[1.0,\"#f0f921\"]],\"type\":\"histogram2dcontour\"}],\"mesh3d\":[{\"colorbar\":{\"outlinewidth\":0,\"ticks\":\"\"},\"type\":\"mesh3d\"}],\"parcoords\":[{\"line\":{\"colorbar\":{\"outlinewidth\":0,\"ticks\":\"\"}},\"type\":\"parcoords\"}],\"pie\":[{\"automargin\":true,\"type\":\"pie\"}],\"scatter\":[{\"marker\":{\"colorbar\":{\"outlinewidth\":0,\"ticks\":\"\"}},\"type\":\"scatter\"}],\"scatter3d\":[{\"line\":{\"colorbar\":{\"outlinewidth\":0,\"ticks\":\"\"}},\"marker\":{\"colorbar\":{\"outlinewidth\":0,\"ticks\":\"\"}},\"type\":\"scatter3d\"}],\"scattercarpet\":[{\"marker\":{\"colorbar\":{\"outlinewidth\":0,\"ticks\":\"\"}},\"type\":\"scattercarpet\"}],\"scattergeo\":[{\"marker\":{\"colorbar\":{\"outlinewidth\":0,\"ticks\":\"\"}},\"type\":\"scattergeo\"}],\"scattergl\":[{\"marker\":{\"colorbar\":{\"outlinewidth\":0,\"ticks\":\"\"}},\"type\":\"scattergl\"}],\"scattermapbox\":[{\"marker\":{\"colorbar\":{\"outlinewidth\":0,\"ticks\":\"\"}},\"type\":\"scattermapbox\"}],\"scatterpolar\":[{\"marker\":{\"colorbar\":{\"outlinewidth\":0,\"ticks\":\"\"}},\"type\":\"scatterpolar\"}],\"scatterpolargl\":[{\"marker\":{\"colorbar\":{\"outlinewidth\":0,\"ticks\":\"\"}},\"type\":\"scatterpolargl\"}],\"scatterternary\":[{\"marker\":{\"colorbar\":{\"outlinewidth\":0,\"ticks\":\"\"}},\"type\":\"scatterternary\"}],\"surface\":[{\"colorbar\":{\"outlinewidth\":0,\"ticks\":\"\"},\"colorscale\":[[0.0,\"#0d0887\"],[0.1111111111111111,\"#46039f\"],[0.2222222222222222,\"#7201a8\"],[0.3333333333333333,\"#9c179e\"],[0.4444444444444444,\"#bd3786\"],[0.5555555555555556,\"#d8576b\"],[0.6666666666666666,\"#ed7953\"],[0.7777777777777778,\"#fb9f3a\"],[0.8888888888888888,\"#fdca26\"],[1.0,\"#f0f921\"]],\"type\":\"surface\"}],\"table\":[{\"cells\":{\"fill\":{\"color\":\"#EBF0F8\"},\"line\":{\"color\":\"white\"}},\"header\":{\"fill\":{\"color\":\"#C8D4E3\"},\"line\":{\"color\":\"white\"}},\"type\":\"table\"}]},\"layout\":{\"annotationdefaults\":{\"arrowcolor\":\"#2a3f5f\",\"arrowhead\":0,\"arrowwidth\":1},\"autotypenumbers\":\"strict\",\"coloraxis\":{\"colorbar\":{\"outlinewidth\":0,\"ticks\":\"\"}},\"colorscale\":{\"diverging\":[[0,\"#8e0152\"],[0.1,\"#c51b7d\"],[0.2,\"#de77ae\"],[0.3,\"#f1b6da\"],[0.4,\"#fde0ef\"],[0.5,\"#f7f7f7\"],[0.6,\"#e6f5d0\"],[0.7,\"#b8e186\"],[0.8,\"#7fbc41\"],[0.9,\"#4d9221\"],[1,\"#276419\"]],\"sequential\":[[0.0,\"#0d0887\"],[0.1111111111111111,\"#46039f\"],[0.2222222222222222,\"#7201a8\"],[0.3333333333333333,\"#9c179e\"],[0.4444444444444444,\"#bd3786\"],[0.5555555555555556,\"#d8576b\"],[0.6666666666666666,\"#ed7953\"],[0.7777777777777778,\"#fb9f3a\"],[0.8888888888888888,\"#fdca26\"],[1.0,\"#f0f921\"]],\"sequentialminus\":[[0.0,\"#0d0887\"],[0.1111111111111111,\"#46039f\"],[0.2222222222222222,\"#7201a8\"],[0.3333333333333333,\"#9c179e\"],[0.4444444444444444,\"#bd3786\"],[0.5555555555555556,\"#d8576b\"],[0.6666666666666666,\"#ed7953\"],[0.7777777777777778,\"#fb9f3a\"],[0.8888888888888888,\"#fdca26\"],[1.0,\"#f0f921\"]]},\"colorway\":[\"#636efa\",\"#EF553B\",\"#00cc96\",\"#ab63fa\",\"#FFA15A\",\"#19d3f3\",\"#FF6692\",\"#B6E880\",\"#FF97FF\",\"#FECB52\"],\"font\":{\"color\":\"#2a3f5f\"},\"geo\":{\"bgcolor\":\"white\",\"lakecolor\":\"white\",\"landcolor\":\"#E5ECF6\",\"showlakes\":true,\"showland\":true,\"subunitcolor\":\"white\"},\"hoverlabel\":{\"align\":\"left\"},\"hovermode\":\"closest\",\"mapbox\":{\"style\":\"light\"},\"paper_bgcolor\":\"white\",\"plot_bgcolor\":\"#E5ECF6\",\"polar\":{\"angularaxis\":{\"gridcolor\":\"white\",\"linecolor\":\"white\",\"ticks\":\"\"},\"bgcolor\":\"#E5ECF6\",\"radialaxis\":{\"gridcolor\":\"white\",\"linecolor\":\"white\",\"ticks\":\"\"}},\"scene\":{\"xaxis\":{\"backgroundcolor\":\"#E5ECF6\",\"gridcolor\":\"white\",\"gridwidth\":2,\"linecolor\":\"white\",\"showbackground\":true,\"ticks\":\"\",\"zerolinecolor\":\"white\"},\"yaxis\":{\"backgroundcolor\":\"#E5ECF6\",\"gridcolor\":\"white\",\"gridwidth\":2,\"linecolor\":\"white\",\"showbackground\":true,\"ticks\":\"\",\"zerolinecolor\":\"white\"},\"zaxis\":{\"backgroundcolor\":\"#E5ECF6\",\"gridcolor\":\"white\",\"gridwidth\":2,\"linecolor\":\"white\",\"showbackground\":true,\"ticks\":\"\",\"zerolinecolor\":\"white\"}},\"shapedefaults\":{\"line\":{\"color\":\"#2a3f5f\"}},\"ternary\":{\"aaxis\":{\"gridcolor\":\"white\",\"linecolor\":\"white\",\"ticks\":\"\"},\"baxis\":{\"gridcolor\":\"white\",\"linecolor\":\"white\",\"ticks\":\"\"},\"bgcolor\":\"#E5ECF6\",\"caxis\":{\"gridcolor\":\"white\",\"linecolor\":\"white\",\"ticks\":\"\"}},\"title\":{\"x\":0.05},\"xaxis\":{\"automargin\":true,\"gridcolor\":\"white\",\"linecolor\":\"white\",\"ticks\":\"\",\"title\":{\"standoff\":15},\"zerolinecolor\":\"white\",\"zerolinewidth\":2},\"yaxis\":{\"automargin\":true,\"gridcolor\":\"white\",\"linecolor\":\"white\",\"ticks\":\"\",\"title\":{\"standoff\":15},\"zerolinecolor\":\"white\",\"zerolinewidth\":2}}},\"xaxis\":{\"anchor\":\"y\",\"domain\":[0.0,1.0],\"title\":{\"text\":\"number\"}},\"yaxis\":{\"anchor\":\"x\",\"domain\":[0.0,1.0],\"title\":{\"text\":\"count\"}},\"legend\":{\"title\":{\"text\":\"letter\"},\"tracegroupgap\":0},\"title\":{\"text\":\"Favorite camelot keys (tb)\"},\"barmode\":\"relative\"},                        {\"responsive\": true}                    ).then(function(){\n",
              "                            \n",
              "var gd = document.getElementById('fec0b5cc-ebbb-4bb1-b087-831e04172737');\n",
              "var x = new MutationObserver(function (mutations, observer) {{\n",
              "        var display = window.getComputedStyle(gd).display;\n",
              "        if (!display || display === 'none') {{\n",
              "            console.log([gd, 'removed!']);\n",
              "            Plotly.purge(gd);\n",
              "            observer.disconnect();\n",
              "        }}\n",
              "}});\n",
              "\n",
              "// Listen for the removal of the full notebook cells\n",
              "var notebookContainer = gd.closest('#notebook-container');\n",
              "if (notebookContainer) {{\n",
              "    x.observe(notebookContainer, {childList: true});\n",
              "}}\n",
              "\n",
              "// Listen for the clearing of the current output cell\n",
              "var outputEl = gd.closest('.output');\n",
              "if (outputEl) {{\n",
              "    x.observe(outputEl, {childList: true});\n",
              "}}\n",
              "\n",
              "                        })                };                            </script>        </div>\n",
              "</body>\n",
              "</html>"
            ]
          },
          "metadata": {}
        }
      ]
    },
    {
      "cell_type": "markdown",
      "source": [
        "### Stats"
      ],
      "metadata": {
        "id": "BIVoxpci5hE5"
      }
    },
    {
      "cell_type": "code",
      "source": [
        "def stat_for_number(number: int):\n",
        "  print(\"============ \" + str(number) + \" ============\")\n",
        "  print(\"GSK\")\n",
        "  songs_with_number_gsk = list(filter(lambda song: int(song.gsk_maximum_camelot[:-1]) == number, songs))\n",
        "  songs_with_number_gsk_strings = list(map(lambda song: song.__repr__(), songs_with_number_gsk))\n",
        "  print(\"\\n\".join(songs_with_number_gsk_strings))\n",
        "  print(\"TB\")\n",
        "  songs_with_number_tb = list(filter(lambda song: int(song.tb_key_camelot[:-1]) == number, songs))\n",
        "  songs_with_number_tb_strings = list(map(lambda song: song.__repr__(), songs_with_number_tb))\n",
        "  print(\"\\n\".join(songs_with_number_tb_strings))\n",
        "  print()\n",
        "\n",
        "\n",
        "for i in range(12):\n",
        "  stat_for_number(i + 1)"
      ],
      "metadata": {
        "colab": {
          "base_uri": "https://localhost:8080/"
        },
        "id": "tbF45mJivZJG",
        "outputId": "8ceb114b-6cb0-452e-a7d7-a767ec6a5c1b"
      },
      "execution_count": 13,
      "outputs": [
        {
          "output_type": "stream",
          "name": "stdout",
          "text": [
            "============ 1 ============\n",
            "GSK\n",
            "Blackmill Feat Cat Martin - Don’t Let Me Down [gsk: 1A] [tb: 1A]\n",
            "Alex Lustig - Free Form [gsk: 1B] [tb: 12B]\n",
            "AK - Discovery [gsk: 1A] [tb: 12A]\n",
            "Three Drives on a Vinyl - Greece 2000 (Sebastian Davidson) [gsk: 1A] [tb: 1A]\n",
            "Emery Dreazz Luciano - Lonely [gsk: 1B] [tb: 11A]\n",
            "TB\n",
            "Blackmill Feat Cat Martin - Don’t Let Me Down [gsk: 1A] [tb: 1A]\n",
            "Three Drives on a Vinyl - Greece 2000 (Sebastian Davidson) [gsk: 1A] [tb: 1A]\n",
            "\n",
            "============ 2 ============\n",
            "GSK\n",
            "Artificial Endorphins - Warm Embrace [gsk: 2A] [tb: 2A]\n",
            "Andy Leech - René [gsk: 2A] [tb: 2A]\n",
            "TB\n",
            "Artificial Endorphins - Warm Embrace [gsk: 2A] [tb: 2A]\n",
            "Andy Leech - René [gsk: 2A] [tb: 2A]\n",
            "London Grammar - Different Breeds [gsk: 3B] [tb: 2B]\n",
            "WILDES - Bare [gsk: 5A] [tb: 2A]\n",
            "\n",
            "============ 3 ============\n",
            "GSK\n",
            "Luciano (DnB) - Threads [gsk: 3A] [tb: 3A]\n",
            "London Grammar - Different Breeds [gsk: 3B] [tb: 2B]\n",
            "TB\n",
            "Sakureye - Lullaby [gsk: 4A] [tb: 3A]\n",
            "Luciano (DnB) - Threads [gsk: 3A] [tb: 3A]\n",
            "\n",
            "============ 4 ============\n",
            "GSK\n",
            "Technimatic - Holding On ft Matt Wilson [gsk: 4A] [tb: 4A]\n",
            "AK - Gone [gsk: 4A] [tb: 4A]\n",
            "36 - Room 2 [gsk: 4A] [tb: 4A]\n",
            "Sakureye - Lullaby [gsk: 4A] [tb: 3A]\n",
            "Matrix Futurebound - Believe [gsk: 4A] [tb: 7B]\n",
            "TB\n",
            "Technimatic - Holding On ft Matt Wilson [gsk: 4A] [tb: 4A]\n",
            "AK - Gone [gsk: 4A] [tb: 4A]\n",
            "36 - Room 2 [gsk: 4A] [tb: 4A]\n",
            "\n",
            "============ 5 ============\n",
            "GSK\n",
            "Andy Leech - Solar Fields [gsk: 5A] [tb: 5A]\n",
            "WILDES - Bare [gsk: 5A] [tb: 2A]\n",
            "TB\n",
            "Andy Leech - Solar Fields [gsk: 5A] [tb: 5A]\n",
            "Sebastian Davidson - River Battles [gsk: 6B] [tb: 5A]\n",
            "Technimatic - Music Is Music [gsk: 8B] [tb: 5A]\n",
            "Metric - Utopia [gsk: 8B] [tb: 5A]\n",
            "London Grammar - Non Believer [gsk: 7B] [tb: 5A]\n",
            "\n",
            "============ 6 ============\n",
            "GSK\n",
            "Jeremy Soule - Secunda [gsk: 6A] [tb: 6A]\n",
            "Jeremy Soule - Jata [gsk: 6A] [tb: 6A]\n",
            "AK - Wanderlust [gsk: 6B] [tb: 6B]\n",
            "AK - It Takes Time [gsk: 6A] [tb: 6A]\n",
            "AK - Blossom [gsk: 6A] [tb: 6A]\n",
            "Sebastian Davidson - River Battles [gsk: 6B] [tb: 5A]\n",
            "TB\n",
            "Jeremy Soule - Secunda [gsk: 6A] [tb: 6A]\n",
            "Jeremy Soule - Jata [gsk: 6A] [tb: 6A]\n",
            "AK - Wanderlust [gsk: 6B] [tb: 6B]\n",
            "AK - It Takes Time [gsk: 6A] [tb: 6A]\n",
            "AK - Blossom [gsk: 6A] [tb: 6A]\n",
            "\n",
            "============ 7 ============\n",
            "GSK\n",
            "Liam Thomas - Tonight We Fly [gsk: 7B] [tb: 7A]\n",
            "Alex Lustig - Eclipse [gsk: 7B] [tb: 7B]\n",
            "Aquilo - It All Comes Down to This [gsk: 7A] [tb: 7A]\n",
            "Future - Mask Off [gsk: 7A] [tb: 10B]\n",
            "The Witcher 3: Wild Hunt - Kaer Morhen (Piano Cover) [gsk: 7A] [tb: 7A]\n",
            "Polaris - Obsidian (ft. Natalie Wood) [gsk: 7A] [tb: 7A]\n",
            "London Grammar - Non Believer [gsk: 7B] [tb: 5A]\n",
            "TB\n",
            "Liam Thomas - Tonight We Fly [gsk: 7B] [tb: 7A]\n",
            "Alex Lustig - Eclipse [gsk: 7B] [tb: 7B]\n",
            "Aquilo - It All Comes Down to This [gsk: 7A] [tb: 7A]\n",
            "The Witcher 3: Wild Hunt - Kaer Morhen (Piano Cover) [gsk: 7A] [tb: 7A]\n",
            "Matrix Futurebound - Believe [gsk: 4A] [tb: 7B]\n",
            "Polaris - Obsidian (ft. Natalie Wood) [gsk: 7A] [tb: 7A]\n",
            "\n",
            "============ 8 ============\n",
            "GSK\n",
            "Liam Thomas - Arcturus [gsk: 8A] [tb: 8A]\n",
            "Enigma - Sadeness Part I [gsk: 8A] [tb: 8A]\n",
            "Technimatic - Music Is Music [gsk: 8B] [tb: 5A]\n",
            "Metric - Utopia [gsk: 8B] [tb: 5A]\n",
            "TB\n",
            "Liam Thomas - Arcturus [gsk: 8A] [tb: 8A]\n",
            "Enigma - Sadeness Part I [gsk: 8A] [tb: 8A]\n",
            "Blessed mane - Youth [gsk: 11B] [tb: 8A]\n",
            "\n",
            "============ 9 ============\n",
            "GSK\n",
            "AK - Icicle [gsk: 9A] [tb: 9A]\n",
            "TB\n",
            "Artificial Endorphins - Melting Ice [gsk: 12B] [tb: 9A]\n",
            "AK - Icicle [gsk: 9A] [tb: 9A]\n",
            "\n",
            "============ 10 ============\n",
            "GSK\n",
            "Technimatic -  Foreshadow Interlude [gsk: 10A] [tb: 10A]\n",
            "TB\n",
            "Technimatic -  Foreshadow Interlude [gsk: 10A] [tb: 10A]\n",
            "Future - Mask Off [gsk: 7A] [tb: 10B]\n",
            "\n",
            "============ 11 ============\n",
            "GSK\n",
            "Blessed mane - Youth [gsk: 11B] [tb: 8A]\n",
            "Оскар - Между мной и тобой [gsk: 11A] [tb: 11A]\n",
            "LUME - Something Sweeter [gsk: 11A] [tb: 11A]\n",
            "TB\n",
            "Оскар - Между мной и тобой [gsk: 11A] [tb: 11A]\n",
            "Emery Dreazz Luciano - Lonely [gsk: 1B] [tb: 11A]\n",
            "LUME - Something Sweeter [gsk: 11A] [tb: 11A]\n",
            "\n",
            "============ 12 ============\n",
            "GSK\n",
            "Artificial Endorphins - Melting Ice [gsk: 12B] [tb: 9A]\n",
            "Alexandre Desplat - Lily’s theme (YouTube piano) [gsk: 12A] [tb: 12A]\n",
            "LUME - Skin [gsk: 12B] [tb: 12B]\n",
            "TB\n",
            "Alexandre Desplat - Lily’s theme (YouTube piano) [gsk: 12A] [tb: 12A]\n",
            "Alex Lustig - Free Form [gsk: 1B] [tb: 12B]\n",
            "AK - Discovery [gsk: 1A] [tb: 12A]\n",
            "LUME - Skin [gsk: 12B] [tb: 12B]\n",
            "\n"
          ]
        }
      ]
    }
  ]
}